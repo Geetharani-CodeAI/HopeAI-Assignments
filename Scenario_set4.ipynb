{
 "cells": [
  {
   "cell_type": "code",
   "execution_count": 10,
   "id": "c5e5f061-b7a3-4689-abf2-17d92defb024",
   "metadata": {},
   "outputs": [
    {
     "name": "stdout",
     "output_type": "stream",
     "text": [
      "96\n"
     ]
    }
   ],
   "source": [
    "#Second largest\n",
    "def secondlarge():\n",
    "    lists = [45,96,41,21,13]\n",
    "    large = lists[0]\n",
    "    for i in lists:\n",
    "        if(i>large):\n",
    "            large = i\n",
    "            print(large)\n",
    "secondlarge()"
   ]
  },
  {
   "cell_type": "code",
   "execution_count": 11,
   "id": "1cc298d0-bc10-49d6-a205-ab86289d6017",
   "metadata": {},
   "outputs": [
    {
     "name": "stdout",
     "output_type": "stream",
     "text": [
      "0b1010\n"
     ]
    }
   ],
   "source": [
    "#integer to binary\n",
    "a =10\n",
    "binary = bin(a)\n",
    "print(binary)"
   ]
  },
  {
   "cell_type": "code",
   "execution_count": 12,
   "id": "c10e76ec-afd0-4e52-a3db-84a4e5ca859f",
   "metadata": {},
   "outputs": [
    {
     "name": "stdout",
     "output_type": "stream",
     "text": [
      "[1, 2, 3, 4, 5, 6]\n"
     ]
    }
   ],
   "source": [
    "#merge two sorted lists into a single sorted list \n",
    "list1 = [1,2,3]\n",
    "list2 = [4,5,6]\n",
    "sort = list1 + list2\n",
    "print(sort)"
   ]
  },
  {
   "cell_type": "code",
   "execution_count": 28,
   "id": "ee14f3b9-8044-4adf-bc1c-ed0c7297af63",
   "metadata": {},
   "outputs": [
    {
     "name": "stdout",
     "output_type": "stream",
     "text": [
      "First Non-repeating character is: H\n",
      "First Non-repeating character is: H\n",
      "First Non-repeating character is: H\n",
      "First Non-repeating character is: H\n",
      "First Non-repeating character is: H\n",
      "First Non-repeating character is: e\n",
      "First Non-repeating character is: e\n",
      "First Non-repeating character is: e\n",
      "First Non-repeating character is: e\n",
      "First Non-repeating character is: e\n",
      "First Non-repeating character is: l\n",
      "First Non-repeating character is: l\n",
      "First Non-repeating character is: l\n",
      "No Non-repeating character\n",
      "First Non-repeating character is: l\n",
      "First Non-repeating character is: l\n",
      "No Non-repeating character\n",
      "First Non-repeating character is: o\n",
      "First Non-repeating character is: o\n",
      "First Non-repeating character is: o\n",
      "First Non-repeating character is: o\n",
      "First Non-repeating character is: o\n"
     ]
    }
   ],
   "source": [
    "#first non-repeating character in a string \n",
    "str1 = \"Hello\"\n",
    "l=len(str1)\n",
    "i=0\n",
    "for temp in range(l):\n",
    "    i=0\n",
    "    for temp1 in range(l):\n",
    "        if str1[temp]==str1[temp1] and temp!=temp1:\n",
    "            i=1\n",
    "        if i==0:\n",
    "            print(\"First Non-repeating character is:\",str1[temp])\n",
    "    if i==1:\n",
    "        print(\"No Non-repeating character\")\n"
   ]
  },
  {
   "cell_type": "code",
   "execution_count": 29,
   "id": "6aa889e7-e692-4bd2-acc4-9d2d6a150c0b",
   "metadata": {
    "scrolled": true
   },
   "outputs": [
    {
     "name": "stdout",
     "output_type": "stream",
     "text": [
      "654654342131\n"
     ]
    }
   ],
   "source": [
    "#reverse a given number\n",
    "num =131243456456\n",
    "print(str(num)[::-1])"
   ]
  },
  {
   "cell_type": "code",
   "execution_count": 30,
   "id": "7c2d16c4-92fb-4de8-9751-6eeee9bc9a81",
   "metadata": {},
   "outputs": [
    {
     "name": "stdout",
     "output_type": "stream",
     "text": [
      "3\n"
     ]
    }
   ],
   "source": [
    "#count the number of words in a given sentence\n",
    "lists = [\"abc\",\"adc\",\"bac\"]\n",
    "print(len(lists))"
   ]
  },
  {
   "cell_type": "code",
   "execution_count": 32,
   "id": "59a12073-b116-4a09-8d42-5722a4c89838",
   "metadata": {},
   "outputs": [
    {
     "name": "stdout",
     "output_type": "stream",
     "text": [
      "PYTHON\n"
     ]
    }
   ],
   "source": [
    "#convert all strings in a list to uppercase.\n",
    "str1 = \"python\"\n",
    "print(str1.upper())"
   ]
  },
  {
   "cell_type": "code",
   "execution_count": 37,
   "id": "9e93dd1d-e06a-4089-90d5-842058e24bda",
   "metadata": {},
   "outputs": [
    {
     "name": "stdin",
     "output_type": "stream",
     "text": [
      "Enter any number: 4\n"
     ]
    },
    {
     "data": {
      "text/plain": [
       "24"
      ]
     },
     "execution_count": 37,
     "metadata": {},
     "output_type": "execute_result"
    }
   ],
   "source": [
    "#factorial of a number using iteration instead of recursion.\n",
    "def fact(n):\n",
    "   if(n<2):\n",
    "       return 1\n",
    "   else:\n",
    "       return n*fact(n-1)\n",
    "    \n",
    "n = int(input(\"Enter any number:\"))\n",
    "fact(n)"
   ]
  },
  {
   "cell_type": "code",
   "execution_count": 43,
   "id": "0c0cc16c-27df-4aac-aca9-5cc2466ab6d0",
   "metadata": {},
   "outputs": [
    {
     "name": "stdout",
     "output_type": "stream",
     "text": [
      "20\n"
     ]
    }
   ],
   "source": [
    "#the greatest common divisor (GCD) of two numbers using the Euclidean algorithm.\n",
    "a=60\n",
    "b=20\n",
    "while b!=0:\n",
    "  a,b = b, a%b\n",
    "print(a)"
   ]
  },
  {
   "cell_type": "code",
   "execution_count": null,
   "id": "bcb8968f-09f6-4274-918f-82b37643de73",
   "metadata": {},
   "outputs": [],
   "source": []
  }
 ],
 "metadata": {
  "kernelspec": {
   "display_name": "Python 3 (ipykernel)",
   "language": "python",
   "name": "python3"
  },
  "language_info": {
   "codemirror_mode": {
    "name": "ipython",
    "version": 3
   },
   "file_extension": ".py",
   "mimetype": "text/x-python",
   "name": "python",
   "nbconvert_exporter": "python",
   "pygments_lexer": "ipython3",
   "version": "3.12.7"
  }
 },
 "nbformat": 4,
 "nbformat_minor": 5
}
