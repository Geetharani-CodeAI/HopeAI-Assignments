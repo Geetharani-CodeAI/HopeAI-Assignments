{
 "cells": [
  {
   "cell_type": "code",
   "execution_count": 1,
   "id": "6288e62b-d3bb-4fff-b2d7-1702d1547c54",
   "metadata": {},
   "outputs": [
    {
     "name": "stdout",
     "output_type": "stream",
     "text": [
      "Welcome to Assignment - 1\n"
     ]
    }
   ],
   "source": [
    "print(\"Welcome to Assignment - 1\")"
   ]
  },
  {
   "cell_type": "code",
   "execution_count": null,
   "id": "db82b712-82f8-4d6c-9815-0626eaf0a07c",
   "metadata": {},
   "outputs": [],
   "source": [
    "#Addition"
   ]
  },
  {
   "cell_type": "code",
   "execution_count": 2,
   "id": "9ed0c311-ee4c-4324-8889-a104d48fbba5",
   "metadata": {},
   "outputs": [
    {
     "name": "stdout",
     "output_type": "stream",
     "text": [
      "Num1= 10\n",
      "Num2= 30\n",
      "Add= 40\n"
     ]
    }
   ],
   "source": [
    "num1=10\n",
    "num2=30\n",
    "print(\"Num1=\",num1)\n",
    "print(\"Num2=\",num2)\n",
    "print(\"Add=\",num1+num2)"
   ]
  },
  {
   "cell_type": "code",
   "execution_count": null,
   "id": "da2199b8-4ecb-4a6c-96f9-fa8273e8e17c",
   "metadata": {},
   "outputs": [],
   "source": [
    "#Body Mass Index(Height in meters)"
   ]
  },
  {
   "cell_type": "code",
   "execution_count": 47,
   "id": "54eca1e4-5328-420b-bba8-da434ab37223",
   "metadata": {},
   "outputs": [
    {
     "name": "stdin",
     "output_type": "stream",
     "text": [
      "Enter your Weight 10.5\n",
      "Enter your Height 0.81\n"
     ]
    }
   ],
   "source": [
    "Weight=float(input(\"Enter your Weight\"))\n",
    "Height=float(input(\"Enter your Height\"))"
   ]
  },
  {
   "cell_type": "code",
   "execution_count": 48,
   "id": "58e5b29d-2bea-4f54-80b5-ab949efa6f01",
   "metadata": {},
   "outputs": [
    {
     "name": "stdout",
     "output_type": "stream",
     "text": [
      "Your BMI index = 16.00365797896662\n"
     ]
    }
   ],
   "source": [
    "BMI = Weight/(Height*Height)\n",
    "print(\"Your BMI index =\",BMI)"
   ]
  },
  {
   "cell_type": "code",
   "execution_count": 49,
   "id": "8460fb76-8ef0-45f0-95ac-f07021e76a8f",
   "metadata": {},
   "outputs": [
    {
     "name": "stdout",
     "output_type": "stream",
     "text": [
      "UnderWeight\n"
     ]
    }
   ],
   "source": [
    "if(BMI<18.5):\n",
    " print(\"UnderWeight\")\n",
    "elif(BMI<=24.9):\n",
    " print(\"Normal\")\n",
    "elif(BMI<=29.9):\n",
    " print(\"OverWeight\")\n",
    "else:\n",
    "    print(\"Obese\")\n",
    "    "
   ]
  },
  {
   "cell_type": "code",
   "execution_count": null,
   "id": "625ba214-3cb3-4b1e-864e-5cf225e7f9f7",
   "metadata": {},
   "outputs": [],
   "source": []
  }
 ],
 "metadata": {
  "kernelspec": {
   "display_name": "Python 3 (ipykernel)",
   "language": "python",
   "name": "python3"
  },
  "language_info": {
   "codemirror_mode": {
    "name": "ipython",
    "version": 3
   },
   "file_extension": ".py",
   "mimetype": "text/x-python",
   "name": "python",
   "nbconvert_exporter": "python",
   "pygments_lexer": "ipython3",
   "version": "3.12.7"
  }
 },
 "nbformat": 4,
 "nbformat_minor": 5
}
