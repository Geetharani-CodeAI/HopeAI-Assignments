{
 "cells": [
  {
   "cell_type": "code",
   "execution_count": null,
   "id": "74443354-6a25-4f97-b47f-3b9b72917bf9",
   "metadata": {},
   "outputs": [],
   "source": [
    "#print(0 to 20)"
   ]
  },
  {
   "cell_type": "code",
   "execution_count": 3,
   "id": "3f3d4ec8-c377-4ce9-8ac6-d76a5f29bce6",
   "metadata": {},
   "outputs": [
    {
     "name": "stdout",
     "output_type": "stream",
     "text": [
      "0\n",
      "1\n",
      "2\n",
      "3\n",
      "4\n",
      "5\n",
      "6\n",
      "7\n",
      "8\n",
      "9\n",
      "10\n",
      "11\n",
      "12\n",
      "13\n",
      "14\n",
      "15\n",
      "16\n",
      "17\n",
      "18\n",
      "19\n"
     ]
    }
   ],
   "source": [
    "for num in range(0,20):\n",
    "   print(num)"
   ]
  },
  {
   "cell_type": "code",
   "execution_count": null,
   "id": "44d84b56-2786-483b-a37c-1d454f7afb69",
   "metadata": {},
   "outputs": [],
   "source": [
    "#print(10 to 20) in Horizontal"
   ]
  },
  {
   "cell_type": "code",
   "execution_count": 5,
   "id": "ddc44b44-5494-4adf-9c7f-f3f7206b3b5b",
   "metadata": {},
   "outputs": [
    {
     "name": "stdout",
     "output_type": "stream",
     "text": [
      "10 11 12 13 14 15 16 17 18 19 "
     ]
    }
   ],
   "source": [
    "for num in range(10,20):\n",
    "    print(num,end=\" \")"
   ]
  },
  {
   "cell_type": "code",
   "execution_count": null,
   "id": "fca69cdd-e101-4b4e-bc2f-772151cfbba1",
   "metadata": {},
   "outputs": [],
   "source": [
    "#print the list and count the items in the list"
   ]
  },
  {
   "cell_type": "code",
   "execution_count": 16,
   "id": "72f41a29-34ee-452f-a69c-5f6f8e9aa8bd",
   "metadata": {},
   "outputs": [
    {
     "name": "stdout",
     "output_type": "stream",
     "text": [
      "10 20 14 55 43 87 76 "
     ]
    }
   ],
   "source": [
    "lists=[10, 20, 14, 55, 43, 87, 76]\n",
    "for temp in lists:\n",
    "    print(temp,end=\" \")\n",
    "    "
   ]
  },
  {
   "cell_type": "code",
   "execution_count": 14,
   "id": "9f823943-ae20-4689-8c7e-7107646cc6d5",
   "metadata": {},
   "outputs": [
    {
     "name": "stdout",
     "output_type": "stream",
     "text": [
      "Number of Items in the lists= 7\n"
     ]
    }
   ],
   "source": [
    "number_of_items=len(lists)\n",
    "print(\"Number of Items in the lists=\",number_of_items)"
   ]
  },
  {
   "cell_type": "code",
   "execution_count": null,
   "id": "243180d3-921a-43a5-bb51-c2c6b092340e",
   "metadata": {},
   "outputs": [],
   "source": [
    "#print the word "
   ]
  },
  {
   "cell_type": "code",
   "execution_count": 18,
   "id": "a4128eda-192c-441a-8cc3-04a7ea7f9a97",
   "metadata": {},
   "outputs": [
    {
     "name": "stdout",
     "output_type": "stream",
     "text": [
      "A\n",
      "R\n",
      "T\n",
      "I\n",
      "F\n",
      "I\n",
      "C\n",
      "I\n",
      "A\n",
      "L\n",
      " \n",
      "I\n",
      "N\n",
      "T\n",
      "E\n",
      "L\n",
      "L\n",
      "I\n",
      "G\n",
      "E\n",
      "N\n",
      "C\n",
      "E\n"
     ]
    }
   ],
   "source": [
    "list=\"ARTIFICIAL INTELLIGENCE\"\n",
    "for temp in list:\n",
    "    print(temp)"
   ]
  },
  {
   "cell_type": "code",
   "execution_count": 19,
   "id": "94a61a85-30ec-4195-bfbe-d0d996277c3d",
   "metadata": {},
   "outputs": [
    {
     "name": "stdout",
     "output_type": "stream",
     "text": [
      "A\n",
      "R\n",
      "T\n",
      "I\n",
      "F\n",
      "I\n",
      "C\n",
      "I\n",
      "A\n",
      "L\n",
      " \n",
      "I\n",
      "N\n",
      "T\n",
      "E\n",
      "L\n",
      "L\n",
      "I\n",
      "G\n",
      "E\n",
      "N\n",
      "C\n",
      "E\n"
     ]
    }
   ],
   "source": [
    "list=\"ARTIFICIAL INTELLIGENCE\"\n",
    "print('\\n'.join(list))"
   ]
  },
  {
   "cell_type": "code",
   "execution_count": null,
   "id": "b79ddd5f-6fb7-4479-b3d7-6a4c5a332996",
   "metadata": {},
   "outputs": [],
   "source": [
    "#Buy Inputs"
   ]
  },
  {
   "cell_type": "code",
   "execution_count": 1,
   "id": "baed57a3-36fe-4c4d-b05a-5c9121c85e34",
   "metadata": {},
   "outputs": [
    {
     "name": "stdin",
     "output_type": "stream",
     "text": [
      "-Your Name- Geetharani\n",
      "-Your Age- 31\n",
      "-Your profession- Graduate\n"
     ]
    }
   ],
   "source": [
    "your_name=input(\"-Your Name-\")\n",
    "your_age=input(\"-Your Age-\")\n",
    "your_profession=input(\"-Your profession-\")"
   ]
  },
  {
   "cell_type": "code",
   "execution_count": null,
   "id": "fb8e264b-72bd-450e-8335-fd815f09ba03",
   "metadata": {},
   "outputs": [],
   "source": [
    "## Print this mixered datatype using Tuples"
   ]
  },
  {
   "cell_type": "code",
   "execution_count": 3,
   "id": "d284733d-bd19-488e-8fd2-a0914701ba6f",
   "metadata": {},
   "outputs": [
    {
     "name": "stdout",
     "output_type": "stream",
     "text": [
      "(1, 'Welcome', 2, 'Hope')\n"
     ]
    }
   ],
   "source": [
    "tup=(1, 'Welcome', 2, 'Hope')\n",
    "print(tup)"
   ]
  },
  {
   "cell_type": "code",
   "execution_count": 4,
   "id": "e418e237-3b59-4945-9c94-55aa9ad56a4b",
   "metadata": {},
   "outputs": [
    {
     "name": "stdout",
     "output_type": "stream",
     "text": [
      "((0, 1, 2, 3), ('Python', 'Hope'))\n"
     ]
    }
   ],
   "source": [
    "Tuple1=(0,1,2,3)\n",
    "Tuple2=('Python','Hope')\n",
    "tup=(Tuple1,Tuple2)\n",
    "print(tup)"
   ]
  },
  {
   "cell_type": "code",
   "execution_count": null,
   "id": "db98de06-678f-4732-9b8a-f8c9f71c036a",
   "metadata": {},
   "outputs": [],
   "source": [
    "# print Odd Numbers in the list"
   ]
  },
  {
   "cell_type": "code",
   "execution_count": 7,
   "id": "3f63f499-fb20-4c0f-9af8-583f9605e565",
   "metadata": {},
   "outputs": [
    {
     "name": "stdout",
     "output_type": "stream",
     "text": [
      "(20, 10, 16, 19, 25, 1, 276, 188)\n",
      "19 is Odd\n",
      "25 is Odd\n",
      "1 is Odd\n"
     ]
    }
   ],
   "source": [
    "tup=(20,10,16,19,25,1,276,188)\n",
    "print(tup)\n",
    "for temp in tup:\n",
    "    if(temp%2==1):\n",
    "      print(temp,\"is Odd\")    "
   ]
  },
  {
   "cell_type": "code",
   "execution_count": null,
   "id": "3077ac4d-fa72-4407-ba08-83fe6cb52c0b",
   "metadata": {},
   "outputs": [],
   "source": [
    "# print Even numbers in the list"
   ]
  },
  {
   "cell_type": "code",
   "execution_count": 8,
   "id": "9a691409-d69f-4693-9db9-5884bab699b0",
   "metadata": {},
   "outputs": [
    {
     "name": "stdout",
     "output_type": "stream",
     "text": [
      "(20, 10, 16, 19, 25, 1, 276, 188)\n",
      "20 is Even\n",
      "10 is Even\n",
      "16 is Even\n",
      "276 is Even\n",
      "188 is Even\n"
     ]
    }
   ],
   "source": [
    "tup=(20,10,16,19,25,1,276,188)\n",
    "print(tup)\n",
    "for temp in tup:\n",
    "    if(temp%2==0):\n",
    "      print(temp,\"is Even\")    "
   ]
  },
  {
   "cell_type": "code",
   "execution_count": null,
   "id": "6c9cecab-cae0-49ed-890a-96d7004f7cd8",
   "metadata": {},
   "outputs": [],
   "source": []
  }
 ],
 "metadata": {
  "kernelspec": {
   "display_name": "Python 3 (ipykernel)",
   "language": "python",
   "name": "python3"
  },
  "language_info": {
   "codemirror_mode": {
    "name": "ipython",
    "version": 3
   },
   "file_extension": ".py",
   "mimetype": "text/x-python",
   "name": "python",
   "nbconvert_exporter": "python",
   "pygments_lexer": "ipython3",
   "version": "3.12.7"
  }
 },
 "nbformat": 4,
 "nbformat_minor": 5
}
