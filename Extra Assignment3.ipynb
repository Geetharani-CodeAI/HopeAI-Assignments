{
 "cells": [
  {
   "cell_type": "code",
   "execution_count": null,
   "id": "55126e5e-3d79-498a-bd5d-79dc2254e83e",
   "metadata": {},
   "outputs": [],
   "source": [
    "# print 'CORRECT' if i == 10"
   ]
  },
  {
   "cell_type": "code",
   "execution_count": 1,
   "id": "9f43b965-4e12-4215-8301-7ce8cadb35a8",
   "metadata": {},
   "outputs": [
    {
     "name": "stdout",
     "output_type": "stream",
     "text": [
      "Value = 10\n",
      "Correct\n"
     ]
    }
   ],
   "source": [
    "for temp in range(0,11):\n",
    "    if(temp==10):\n",
    "        print(\"Value =\",temp)\n",
    "        print(\"Correct\")"
   ]
  },
  {
   "cell_type": "code",
   "execution_count": null,
   "id": "a8386877-f245-4c8d-95f8-89873c46e230",
   "metadata": {},
   "outputs": [],
   "source": [
    "# Check the password, using if and else"
   ]
  },
  {
   "cell_type": "code",
   "execution_count": 2,
   "id": "e91db42d-9ef8-47c0-b87a-535c4f935743",
   "metadata": {},
   "outputs": [
    {
     "name": "stdin",
     "output_type": "stream",
     "text": [
      "Enter your Password: dsfdsf\n"
     ]
    }
   ],
   "source": [
    "pwd=input(\"Enter your Password:\")\n"
   ]
  },
  {
   "cell_type": "code",
   "execution_count": 4,
   "id": "3a2496b6-07ff-4daf-a75e-1393e1822fcd",
   "metadata": {},
   "outputs": [
    {
     "name": "stdout",
     "output_type": "stream",
     "text": [
      "Your Password is Incorrect\n"
     ]
    }
   ],
   "source": [
    "if(pwd=='HOPE@123'):\n",
    "  print(\"Your Password is Correct\")\n",
    "else:\n",
    "    print(\"Your Password is Incorrect\")"
   ]
  },
  {
   "cell_type": "code",
   "execution_count": null,
   "id": "65a11883-3c77-4cbc-a66b-26d569c129b3",
   "metadata": {},
   "outputs": [],
   "source": [
    "# Category the people by their age like children, adult, citizen, senior citizen..."
   ]
  },
  {
   "cell_type": "code",
   "execution_count": 5,
   "id": "beaa0f80-c5e4-4155-ab8c-0e60e16dbcae",
   "metadata": {},
   "outputs": [
    {
     "name": "stdin",
     "output_type": "stream",
     "text": [
      "Enter your age: 34\n"
     ]
    }
   ],
   "source": [
    "age=int(input(\"Enter your age:\"))"
   ]
  },
  {
   "cell_type": "code",
   "execution_count": 7,
   "id": "354c309f-0edd-411a-8833-857e4640a8a1",
   "metadata": {},
   "outputs": [
    {
     "name": "stdout",
     "output_type": "stream",
     "text": [
      "ADULT\n"
     ]
    }
   ],
   "source": [
    "if(age<18):\n",
    "    print(\"CHILDREN\")\n",
    "elif(age<=40):\n",
    "    print(\"ADULT\")\n",
    "elif(age<=59):\n",
    "    print(\"CITIZEN\")\n",
    "else:\n",
    "    print(\"SENIOR CITIZEN\")"
   ]
  },
  {
   "cell_type": "code",
   "execution_count": null,
   "id": "5ad9e097-99b3-4c61-b56a-e5851011b9a4",
   "metadata": {},
   "outputs": [],
   "source": [
    "# Find whether given number is positive or negative"
   ]
  },
  {
   "cell_type": "code",
   "execution_count": 10,
   "id": "477e55ae-915a-4c3f-8b8b-25fd6a148367",
   "metadata": {},
   "outputs": [
    {
     "name": "stdin",
     "output_type": "stream",
     "text": [
      "Enter a number: -9873\n"
     ]
    },
    {
     "name": "stdout",
     "output_type": "stream",
     "text": [
      "The Number is Negative\n"
     ]
    }
   ],
   "source": [
    "num=int(input(\"Enter a number:\"))\n",
    "if(num<0):\n",
    "    print(\"The Number is Negative\")\n",
    "else:\n",
    "    print(\"The Number is Positive\")"
   ]
  },
  {
   "cell_type": "code",
   "execution_count": null,
   "id": "10c4669b-6438-4db2-86e1-47f0e7be818b",
   "metadata": {},
   "outputs": [],
   "source": [
    "# Check whether the given number is divisible by 5"
   ]
  },
  {
   "cell_type": "code",
   "execution_count": 12,
   "id": "28af1247-5940-4884-b447-6b7342895928",
   "metadata": {},
   "outputs": [
    {
     "name": "stdin",
     "output_type": "stream",
     "text": [
      "Enter a number: 89\n"
     ]
    },
    {
     "name": "stdout",
     "output_type": "stream",
     "text": [
      "The given number is not divisible by 5\n"
     ]
    }
   ],
   "source": [
    "num=int(input(\"Enter a number:\"))\n",
    "if(num%5==0):\n",
    "    print(\"The given number is divisible by 5\")\n",
    "else:\n",
    "    print(\"The given number is not divisible by 5\")\n",
    "    "
   ]
  },
  {
   "cell_type": "code",
   "execution_count": null,
   "id": "e581d51f-dc8a-4a0d-adfd-0ebca6673c93",
   "metadata": {},
   "outputs": [],
   "source": []
  }
 ],
 "metadata": {
  "kernelspec": {
   "display_name": "Python 3 (ipykernel)",
   "language": "python",
   "name": "python3"
  },
  "language_info": {
   "codemirror_mode": {
    "name": "ipython",
    "version": 3
   },
   "file_extension": ".py",
   "mimetype": "text/x-python",
   "name": "python",
   "nbconvert_exporter": "python",
   "pygments_lexer": "ipython3",
   "version": "3.12.7"
  }
 },
 "nbformat": 4,
 "nbformat_minor": 5
}
