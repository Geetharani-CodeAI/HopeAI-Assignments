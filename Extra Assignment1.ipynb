{
 "cells": [
  {
   "cell_type": "code",
   "execution_count": 1,
   "id": "dbdf20a6-7b6c-457c-8a2d-766b9626e4b5",
   "metadata": {},
   "outputs": [
    {
     "name": "stdout",
     "output_type": "stream",
     "text": [
      "HOPE AI\n"
     ]
    }
   ],
   "source": [
    "print(\"HOPE AI\")"
   ]
  },
  {
   "cell_type": "code",
   "execution_count": null,
   "id": "be488072-e64f-4ea8-aa24-1a4ecf897094",
   "metadata": {},
   "outputs": [],
   "source": [
    "#buy Input"
   ]
  },
  {
   "cell_type": "code",
   "execution_count": 2,
   "id": "f8de96d8-18fa-4ccc-b69d-fe1749a17338",
   "metadata": {},
   "outputs": [
    {
     "name": "stdin",
     "output_type": "stream",
     "text": [
      "Enter your Institute Name: hope ai\n"
     ]
    }
   ],
   "source": [
    "Institute_name=input(\"Enter your Institute Name:\")"
   ]
  },
  {
   "cell_type": "code",
   "execution_count": null,
   "id": "252d1c42-ad87-4efb-8825-d3764e74fbac",
   "metadata": {},
   "outputs": [],
   "source": [
    "#Buy Inputs"
   ]
  },
  {
   "cell_type": "code",
   "execution_count": 3,
   "id": "719f8cdf-fc9e-4159-b623-af13f69f2a70",
   "metadata": {},
   "outputs": [
    {
     "name": "stdin",
     "output_type": "stream",
     "text": [
      "Enter your Name: Geetharani\n",
      "Enter your Age: 31\n",
      "Enter your School Name: SSML\n",
      "Enter your Degree: BE ECE\n"
     ]
    }
   ],
   "source": [
    "Name=input(\"Enter your Name:\")\n",
    "Age=int(input(\"Enter your Age:\"))\n",
    "School_Name=input(\"Enter your School Name:\")\n",
    "Degree=input(\"Enter your Degree:\")"
   ]
  },
  {
   "cell_type": "code",
   "execution_count": null,
   "id": "55372d2c-8689-48ff-86e9-cc45774d369e",
   "metadata": {},
   "outputs": [],
   "source": [
    "#Addition"
   ]
  },
  {
   "cell_type": "code",
   "execution_count": 4,
   "id": "cd9c7667-8f34-428d-968c-d7f41102f302",
   "metadata": {},
   "outputs": [
    {
     "name": "stdout",
     "output_type": "stream",
     "text": [
      "a= 34\n",
      "b= 43\n",
      "Add= 77\n"
     ]
    }
   ],
   "source": [
    "num1=34\n",
    "num2=43\n",
    "print(\"a=\",num1)\n",
    "print(\"b=\",num2)\n",
    "print(\"Add=\",num1+num2)"
   ]
  },
  {
   "cell_type": "code",
   "execution_count": null,
   "id": "bc8537e7-74fb-4fa3-a87a-0dd3a567bcf9",
   "metadata": {},
   "outputs": [],
   "source": [
    "#Subtraction"
   ]
  },
  {
   "cell_type": "code",
   "execution_count": 5,
   "id": "cbe053c8-9c62-4039-b9db-08a630537dc4",
   "metadata": {},
   "outputs": [
    {
     "name": "stdout",
     "output_type": "stream",
     "text": [
      "a= 34\n",
      "b= 43\n",
      "Sub= 9\n"
     ]
    }
   ],
   "source": [
    "num1=34\n",
    "num2=43\n",
    "print(\"a=\",num1)\n",
    "print(\"b=\",num2)\n",
    "print(\"Sub=\",num2-num1)"
   ]
  },
  {
   "cell_type": "code",
   "execution_count": null,
   "id": "4dcbbf33-d17e-4e50-b2cd-f212b5ff379c",
   "metadata": {},
   "outputs": [],
   "source": [
    "#Multiplication"
   ]
  },
  {
   "cell_type": "code",
   "execution_count": 6,
   "id": "1aedfa3a-0be5-49c4-a589-1de76d2ff34c",
   "metadata": {},
   "outputs": [
    {
     "name": "stdout",
     "output_type": "stream",
     "text": [
      "a= 63\n",
      "b= 97\n",
      "Mul= 6111\n"
     ]
    }
   ],
   "source": [
    "num1=63\n",
    "num2=97\n",
    "print(\"a=\",num1)\n",
    "print(\"b=\",num2)\n",
    "print(\"Mul=\",num1*num2)"
   ]
  },
  {
   "cell_type": "code",
   "execution_count": null,
   "id": "d2451cb7-e945-4573-8819-08301594e3d6",
   "metadata": {},
   "outputs": [],
   "source": [
    "#Division"
   ]
  },
  {
   "cell_type": "code",
   "execution_count": 7,
   "id": "dde4eadb-b76e-4c41-af9c-4eae8e7d3128",
   "metadata": {},
   "outputs": [
    {
     "name": "stdout",
     "output_type": "stream",
     "text": [
      "a= 76\n",
      "b= 31\n",
      "Float Div= 2.4516129032258065\n"
     ]
    }
   ],
   "source": [
    "num1=76\n",
    "num2=31\n",
    "print(\"a=\",num1)\n",
    "print(\"b=\",num2)\n",
    "print(\"Float Div=\",num1/num2)"
   ]
  },
  {
   "cell_type": "code",
   "execution_count": null,
   "id": "5035c683-c582-49e4-8442-c402288510be",
   "metadata": {},
   "outputs": [],
   "source": [
    "#Floor Division"
   ]
  },
  {
   "cell_type": "code",
   "execution_count": 8,
   "id": "2c01cf58-1e74-49e2-8007-834bb1c794d0",
   "metadata": {},
   "outputs": [
    {
     "name": "stdout",
     "output_type": "stream",
     "text": [
      "a= 76\n",
      "b= 31\n",
      "Floor Div= 2\n"
     ]
    }
   ],
   "source": [
    "num1=76\n",
    "num2=31\n",
    "print(\"a=\",num1)\n",
    "print(\"b=\",num2)\n",
    "print(\"Floor Div=\",num1//num2)"
   ]
  },
  {
   "cell_type": "code",
   "execution_count": null,
   "id": "5369a98d-bb3f-463b-b5dd-46c545fca8ed",
   "metadata": {},
   "outputs": [],
   "source": [
    "#Modulo"
   ]
  },
  {
   "cell_type": "code",
   "execution_count": 9,
   "id": "b40206d0-eb23-4747-9477-64c5cdebea9a",
   "metadata": {},
   "outputs": [
    {
     "name": "stdout",
     "output_type": "stream",
     "text": [
      "a= 76\n",
      "b= 31\n",
      "Modulo= 14\n"
     ]
    }
   ],
   "source": [
    "num1=76\n",
    "num2=31\n",
    "print(\"a=\",num1)\n",
    "print(\"b=\",num2)\n",
    "print(\"Modulo=\",num1%num2)"
   ]
  },
  {
   "cell_type": "code",
   "execution_count": null,
   "id": "b6150039-230a-4f5c-9db4-6f60d480e95d",
   "metadata": {},
   "outputs": [],
   "source": [
    "#Power"
   ]
  },
  {
   "cell_type": "code",
   "execution_count": 11,
   "id": "f86f7d90-7950-4ea8-b83b-8ca3911ec252",
   "metadata": {},
   "outputs": [
    {
     "name": "stdout",
     "output_type": "stream",
     "text": [
      "a= 4\n",
      "b= 4\n",
      "Power= 256\n"
     ]
    }
   ],
   "source": [
    "num1=4\n",
    "num2=4\n",
    "print(\"a=\",num1)\n",
    "print(\"b=\",num2)\n",
    "print(\"Power=\",num1**num2)"
   ]
  },
  {
   "cell_type": "code",
   "execution_count": null,
   "id": "3ca37c53-5b14-48b9-a980-fab74b692486",
   "metadata": {},
   "outputs": [],
   "source": []
  }
 ],
 "metadata": {
  "kernelspec": {
   "display_name": "Python 3 (ipykernel)",
   "language": "python",
   "name": "python3"
  },
  "language_info": {
   "codemirror_mode": {
    "name": "ipython",
    "version": 3
   },
   "file_extension": ".py",
   "mimetype": "text/x-python",
   "name": "python",
   "nbconvert_exporter": "python",
   "pygments_lexer": "ipython3",
   "version": "3.12.7"
  }
 },
 "nbformat": 4,
 "nbformat_minor": 5
}
