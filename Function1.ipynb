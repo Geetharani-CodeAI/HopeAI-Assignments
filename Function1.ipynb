{
 "cells": [
  {
   "cell_type": "code",
   "execution_count": null,
   "id": "5a5010b5-bfd1-4d7d-86b9-4c10a7d60a06",
   "metadata": {},
   "outputs": [],
   "source": [
    "def numcategory(num):\n",
    "    if(num>0):\n",
    "        print(\"Positive\")\n",
    "        cate=\"Positive\"\n",
    "    else:\n",
    "        print(\"Negative\")\n",
    "        cate=\"Negative\"\n",
    "        return cate   "
   ]
  },
  {
   "cell_type": "code",
   "execution_count": null,
   "id": "d3d45cc1-3e30-4dd0-8204-7f4300526296",
   "metadata": {},
   "outputs": [],
   "source": [
    "num = float(input(\"Enter any number:\"))"
   ]
  },
  {
   "cell_type": "code",
   "execution_count": null,
   "id": "11a117d8-e6b3-4447-a5cd-2ca0cf6a626c",
   "metadata": {},
   "outputs": [],
   "source": [
    "numc=numcategory(num)\n",
    "print(numc)"
   ]
  },
  {
   "cell_type": "code",
   "execution_count": null,
   "id": "143aa393-c0d8-4867-97b5-5bedaa7e806b",
   "metadata": {},
   "outputs": [],
   "source": []
  },
  {
   "cell_type": "code",
   "execution_count": null,
   "id": "5133486e-dcd0-44ae-8709-2ef4390f6dcf",
   "metadata": {},
   "outputs": [],
   "source": []
  }
 ],
 "metadata": {
  "kernelspec": {
   "display_name": "Python 3 (ipykernel)",
   "language": "python",
   "name": "python3"
  },
  "language_info": {
   "codemirror_mode": {
    "name": "ipython",
    "version": 3
   },
   "file_extension": ".py",
   "mimetype": "text/x-python",
   "name": "python",
   "nbconvert_exporter": "python",
   "pygments_lexer": "ipython3",
   "version": "3.12.7"
  }
 },
 "nbformat": 4,
 "nbformat_minor": 5
}
