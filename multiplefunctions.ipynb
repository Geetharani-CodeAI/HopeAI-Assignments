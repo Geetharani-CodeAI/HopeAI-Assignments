{
 "cells": [
  {
   "cell_type": "code",
   "execution_count": null,
   "id": "20cc1d65-efe9-44e7-b679-21abfceca268",
   "metadata": {},
   "outputs": [],
   "source": [
    "from multipleClassfunctions import multiplefunctions\n",
    "#from pyfilename import classname"
   ]
  },
  {
   "cell_type": "code",
   "execution_count": null,
   "id": "8a231b8c-7df6-4884-a14f-71518b7e95bb",
   "metadata": {},
   "outputs": [],
   "source": [
    "multiplefunctions.triangle()"
   ]
  },
  {
   "cell_type": "code",
   "execution_count": null,
   "id": "00d324a2-0a04-472b-9d5c-7af051caf00d",
   "metadata": {},
   "outputs": [],
   "source": [
    "multiplefunctions.OddEven()"
   ]
  },
  {
   "cell_type": "code",
   "execution_count": null,
   "id": "934b0a0a-8007-4cc8-980d-dbbd0f40817d",
   "metadata": {},
   "outputs": [],
   "source": [
    "multiplefunctions.Subfields()"
   ]
  },
  {
   "cell_type": "code",
   "execution_count": null,
   "id": "2d4f63ca-4a33-4ad4-8f42-2ceabaaa5d4e",
   "metadata": {},
   "outputs": [],
   "source": [
    "multiplefunctions.Eligible()"
   ]
  },
  {
   "cell_type": "code",
   "execution_count": null,
   "id": "d7d5779f-3797-4e68-84bc-4bc25200273f",
   "metadata": {},
   "outputs": [],
   "source": [
    "multiplefunctions.percentage()"
   ]
  },
  {
   "cell_type": "code",
   "execution_count": null,
   "id": "4fc3ce68-ec4f-4f0d-b181-92f1fe8ea5db",
   "metadata": {},
   "outputs": [],
   "source": []
  }
 ],
 "metadata": {
  "kernelspec": {
   "display_name": "Python 3 (ipykernel)",
   "language": "python",
   "name": "python3"
  },
  "language_info": {
   "codemirror_mode": {
    "name": "ipython",
    "version": 3
   },
   "file_extension": ".py",
   "mimetype": "text/x-python",
   "name": "python",
   "nbconvert_exporter": "python",
   "pygments_lexer": "ipython3",
   "version": "3.12.7"
  }
 },
 "nbformat": 4,
 "nbformat_minor": 5
}
