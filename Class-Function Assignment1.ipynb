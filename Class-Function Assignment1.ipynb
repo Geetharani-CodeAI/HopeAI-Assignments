{
 "cells": [
  {
   "cell_type": "code",
   "execution_count": null,
   "id": "d0ce2e27-ab71-4a5d-8de3-f3b560ee64b5",
   "metadata": {},
   "outputs": [],
   "source": [
    "#create a class and function,and list out the items in the list"
   ]
  },
  {
   "cell_type": "code",
   "execution_count": null,
   "id": "3bcd0aa4-926f-4c40-8a3d-8716eb0b3699",
   "metadata": {},
   "outputs": [],
   "source": [
    "class SubfieldsInAI():\n",
    "    def Subfields():\n",
    "        print(\"Subfields in AI are:\")\n",
    "        print('\\n'.join(Lists))\n",
    "        head=\"Subfields in AI are:\"\n",
    "       "
   ]
  },
  {
   "cell_type": "code",
   "execution_count": null,
   "id": "310247ce-4ebd-4bb5-a42a-a7ab916ca908",
   "metadata": {},
   "outputs": [],
   "source": [
    "Lists=[\"Machine Learning\",\"Neural Networks\",\"Vision\",\"Robotics\",\"Speech Processing\",\"Natural Language Processing\"]"
   ]
  },
  {
   "cell_type": "code",
   "execution_count": null,
   "id": "a81e3115-0103-4f3f-9bfa-914f00185143",
   "metadata": {},
   "outputs": [],
   "source": [
    "SubfieldsInAI.Subfields()"
   ]
  },
  {
   "cell_type": "code",
   "execution_count": null,
   "id": "b6f18160-5bd4-4bf5-aabc-ad468ae1fff3",
   "metadata": {},
   "outputs": [],
   "source": [
    "#Create a function that checks whether the given number is Odd or Even"
   ]
  },
  {
   "cell_type": "code",
   "execution_count": null,
   "id": "f84003d8-ea65-4951-82f9-875a9caafe90",
   "metadata": {},
   "outputs": [],
   "source": [
    "class OddEven():\n",
    "    def OddEven():\n",
    "        num=int(input(\"Enter any number\"))\n",
    "        if(num%2==0):\n",
    "            print(num,\"is Even Number\")\n",
    "            message=num,\"is Even Number\"\n",
    "        else:\n",
    "            print(num,\"is Odd Number\")\n",
    "            message=num,\"is Odd Number\"\n",
    "        return message\n",
    "            "
   ]
  },
  {
   "cell_type": "code",
   "execution_count": null,
   "id": "dc8ebaa0-ffe8-4611-a6f7-3337cd9de2da",
   "metadata": {},
   "outputs": [],
   "source": [
    "OddEven.OddEven()"
   ]
  },
  {
   "cell_type": "code",
   "execution_count": null,
   "id": "af3e4109-4de9-49f1-9d8b-6c614498f631",
   "metadata": {},
   "outputs": [],
   "source": [
    "# Create a function that tells eligibility of marriage for male and female according to their age limit like 21 for male and 18 for female"
   ]
  },
  {
   "cell_type": "code",
   "execution_count": null,
   "id": "235178ab-24c8-49a1-b04f-76fe920af3f1",
   "metadata": {},
   "outputs": [],
   "source": [
    "class EligiblityForMarriage():\n",
    "    def Eligible():\n",
    "        if(gender==\"male\"):\n",
    "              if(age>=21):\n",
    "                  print(\"Eligible\")\n",
    "                  indicate=\"Eligible\"\n",
    "              else:\n",
    "                  print(\"Not Eligible\")\n",
    "                  indicate=\"Not Eligible\"\n",
    "        if(gender==\"female\"):\n",
    "                if(age>=18):\n",
    "                    print(\"Eligible\")\n",
    "                    indicate=\"Eligible\"\n",
    "                else:\n",
    "                  print(\"Not Eligible\")\n",
    "                  indicate=\"Not Eligible\"    \n",
    "        return indicate"
   ]
  },
  {
   "cell_type": "code",
   "execution_count": null,
   "id": "dcc0270a-0526-49c6-858f-d51d4ed8284b",
   "metadata": {},
   "outputs": [],
   "source": [
    "gender=input(\"Your Gender\")\n",
    "age=int(input(\"Your Age\"))\n",
    "EligiblityForMarriage.Eligible()"
   ]
  },
  {
   "cell_type": "code",
   "execution_count": null,
   "id": "484df41e-cd99-444e-9cf5-c1787d425c33",
   "metadata": {},
   "outputs": [],
   "source": [
    "# calculate the percentage of your 10th mark"
   ]
  },
  {
   "cell_type": "code",
   "execution_count": null,
   "id": "c338dca5-0ac8-4f19-9f38-7a83cf7b00ad",
   "metadata": {},
   "outputs": [],
   "source": [
    "class FindPercent():\n",
    "    def percentage():\n",
    "        print(\"Subject1=\",s1)\n",
    "        print(\"Subject2=\",s2)\n",
    "        print(\"Subject3=\",s3)\n",
    "        print(\"Subject4=\",s4) \n",
    "        print(\"Subject5=\",s5)\n",
    "        total=s1+s2+s3+s4+s5\n",
    "        print(\"Total=\",total)\n",
    "        percent=total/5\n",
    "        print(\"Percentage\",percent)\n",
    "        return percent               "
   ]
  },
  {
   "cell_type": "code",
   "execution_count": null,
   "id": "bd09fb30-db3a-488e-943f-fb197c6176b7",
   "metadata": {},
   "outputs": [],
   "source": [
    "s1=int(input(\"Enter Subject1\"))\n",
    "s2=int(input(\"Enter Subject2\"))      \n",
    "s3=int(input(\"Enter Subject3\"))\n",
    "s4=int(input(\"Enter Subject4\"))\n",
    "s5=int(input(\"Enter Subject5\"))\n",
    "FindPercent.percentage()"
   ]
  },
  {
   "cell_type": "code",
   "execution_count": null,
   "id": "d5f955c9-c88b-4835-b8a4-268423f7beab",
   "metadata": {},
   "outputs": [],
   "source": [
    "#print area and perimeter of triangle using class and functions"
   ]
  },
  {
   "cell_type": "code",
   "execution_count": null,
   "id": "59622a13-864d-4eb5-9da0-cdeb7e936a25",
   "metadata": {},
   "outputs": [],
   "source": [
    "class triangle():\n",
    "    def triangle():\n",
    "            print(\"Height\",h)\n",
    "            print(\"Breadth\",b)\n",
    "            area=(h*b)/2\n",
    "            print(\"Area formula: (Height*Breadth)/2\")\n",
    "            print(\"Area of Triangle:\",area)\n",
    "            print(\"Height1\",h1)\n",
    "            print(\"Height2\",h2)\n",
    "            print(\"Breadth\",b1)\n",
    "            perimeter=(b1+h1+h2)\n",
    "            print(\"Perimeter formula: Height1+Height2+Breadth\")\n",
    "            print(\"Perimeter of Triangle:\",perimeter)\n",
    "            return area,perimeter\n",
    "        "
   ]
  },
  {
   "cell_type": "code",
   "execution_count": null,
   "id": "5c0bc129-0d65-4a24-a8f3-db1a9c8b6754",
   "metadata": {},
   "outputs": [],
   "source": [
    "h=int(input(\"Enter height\"))\n",
    "b=int(input(\"Enter breadth\"))\n",
    "\n",
    "h1=int(input(\"Enter height1\"))\n",
    "h2=int(input(\"Enter height2\"))\n",
    "b1=int(input(\"Enter breadth\"))\n",
    "triangle.triangle()"
   ]
  },
  {
   "cell_type": "code",
   "execution_count": null,
   "id": "64137195-c95a-4d68-8c5d-2358d02f7b59",
   "metadata": {},
   "outputs": [],
   "source": []
  }
 ],
 "metadata": {
  "kernelspec": {
   "display_name": "Python 3 (ipykernel)",
   "language": "python",
   "name": "python3"
  },
  "language_info": {
   "codemirror_mode": {
    "name": "ipython",
    "version": 3
   },
   "file_extension": ".py",
   "mimetype": "text/x-python",
   "name": "python",
   "nbconvert_exporter": "python",
   "pygments_lexer": "ipython3",
   "version": "3.12.7"
  }
 },
 "nbformat": 4,
 "nbformat_minor": 5
}
