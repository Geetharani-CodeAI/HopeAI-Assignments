{
 "cells": [
  {
   "cell_type": "code",
   "execution_count": 5,
   "id": "eac03fd6-4e9e-42f2-883b-ef48233318f3",
   "metadata": {},
   "outputs": [
    {
     "name": "stdin",
     "output_type": "stream",
     "text": [
      "Enter R&D spend value: 2344\n",
      "Enter Administration spend: 234\n",
      "Enter Marketing spend: 234\n",
      "Enter 0 or 1 for State_florida: 1\n",
      "Enter 0 or 1 for State_newYork: 1\n"
     ]
    },
    {
     "name": "stderr",
     "output_type": "stream",
     "text": [
      "C:\\Users\\Hxtreme\\anaconda3\\Lib\\site-packages\\sklearn\\base.py:493: UserWarning: X does not have valid feature names, but LinearRegression was fitted with feature names\n",
      "  warnings.warn(\n"
     ]
    },
    {
     "data": {
      "text/plain": [
       "array([[45039.75252427]])"
      ]
     },
     "execution_count": 5,
     "metadata": {},
     "output_type": "execute_result"
    }
   ],
   "source": [
    "# pickle is a library used to serialize & Deserialize the data[ie. python object converted to byte stream for storing it in a file]\n",
    "import pickle\n",
    "\n",
    "# load the model to the file using rb(read binary)\n",
    "loaded_model=pickle.load(open(\"Final_Multiple_linear.sav\",'rb'))\n",
    "\n",
    "# Input for rd_spend\n",
    "rd_spend = float(input(\"Enter R&D spend value:\"))\n",
    "\n",
    "# Input for admin_value\n",
    "admin_value = float(input(\"Enter Administration spend:\"))\n",
    "\n",
    "# Marketing Spend Input\n",
    "marketing_spend = float(input(\"Enter Marketing spend:\"))\n",
    "\n",
    "# Input for State Florida\n",
    "state_input1 = int(input(\"Enter 0 or 1 for State_florida:\"))\n",
    "\n",
    "#Input for State NewYork\n",
    "state_input2 = int(input(\"Enter 0 or 1 for State_newYork:\"))\n",
    "\n",
    "# Applying the inputs to find the result\n",
    "result=loaded_model.predict([[rd_spend,admin_value,marketing_spend,state_input1,state_input2]])\n",
    "\n",
    "# print the result\n",
    "result"
   ]
  },
  {
   "cell_type": "code",
   "execution_count": null,
   "id": "dda47618-5925-4978-93d7-0f40a2ff7ed6",
   "metadata": {},
   "outputs": [],
   "source": []
  }
 ],
 "metadata": {
  "kernelspec": {
   "display_name": "Python 3 (ipykernel)",
   "language": "python",
   "name": "python3"
  },
  "language_info": {
   "codemirror_mode": {
    "name": "ipython",
    "version": 3
   },
   "file_extension": ".py",
   "mimetype": "text/x-python",
   "name": "python",
   "nbconvert_exporter": "python",
   "pygments_lexer": "ipython3",
   "version": "3.12.7"
  }
 },
 "nbformat": 4,
 "nbformat_minor": 5
}
