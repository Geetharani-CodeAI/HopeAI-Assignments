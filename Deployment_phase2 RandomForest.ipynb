{
 "cells": [
  {
   "cell_type": "code",
   "execution_count": 5,
   "id": "115ece56-4891-47cd-9d64-914e89c13046",
   "metadata": {},
   "outputs": [
    {
     "name": "stdin",
     "output_type": "stream",
     "text": [
      "Enter an input for R&D: 89283\n",
      "Enter an input for administration: 243\n",
      "Enter an input for marketing_spend: 32321\n",
      "Enter 0 or 1 for State input: 1\n",
      "Enter 0 or 1 for State input: 0\n"
     ]
    },
    {
     "name": "stderr",
     "output_type": "stream",
     "text": [
      "C:\\Users\\Hxtreme\\anaconda3\\Lib\\site-packages\\sklearn\\base.py:493: UserWarning: X does not have valid feature names, but RandomForestRegressor was fitted with feature names\n",
      "  warnings.warn(\n"
     ]
    },
    {
     "data": {
      "text/plain": [
       "array([141585.52])"
      ]
     },
     "execution_count": 5,
     "metadata": {},
     "output_type": "execute_result"
    }
   ],
   "source": [
    "import pickle\n",
    "loaded_model = pickle.load(open(\"Final_Model_creation_RandomForest.sav\",'rb'))\n",
    "RD_spend = float(input(\"Enter an input for R&D:\"))\n",
    "admin = float(input(\"Enter an input for administration:\"))\n",
    "marketing_spend = float(input(\"Enter an input for marketing_spend:\"))\n",
    "State_Florida = int(input(\"Enter 0 or 1 for State input:\"))\n",
    "State_NewYork = int(input(\"Enter 0 or 1 for State input:\"))\n",
    "result=loaded_model.predict([[RD_spend,admin,marketing_spend,State_Florida,State_NewYork]])\n",
    "result"
   ]
  },
  {
   "cell_type": "code",
   "execution_count": null,
   "id": "47332fde-6b82-4d05-a9ef-fa8401597ca9",
   "metadata": {},
   "outputs": [],
   "source": []
  }
 ],
 "metadata": {
  "kernelspec": {
   "display_name": "Python 3 (ipykernel)",
   "language": "python",
   "name": "python3"
  },
  "language_info": {
   "codemirror_mode": {
    "name": "ipython",
    "version": 3
   },
   "file_extension": ".py",
   "mimetype": "text/x-python",
   "name": "python",
   "nbconvert_exporter": "python",
   "pygments_lexer": "ipython3",
   "version": "3.12.7"
  }
 },
 "nbformat": 4,
 "nbformat_minor": 5
}
